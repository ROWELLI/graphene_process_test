{
 "cells": [
  {
   "cell_type": "markdown",
   "id": "3a65ce5d",
   "metadata": {},
   "source": [
    "## 공정 시뮬레이터\n",
    "일단 와이어프레임과 다이어그램을 위한 기본적인 테스트"
   ]
  },
  {
   "cell_type": "code",
   "execution_count": 38,
   "id": "a8404343",
   "metadata": {},
   "outputs": [],
   "source": [
    "import config\n",
    "import pandas as pd\n",
    "import csv\n"
   ]
  },
  {
   "cell_type": "code",
   "execution_count": 39,
   "id": "29e284d2",
   "metadata": {},
   "outputs": [],
   "source": [
    "\n",
    "\n",
    "product_count = 1000\n"
   ]
  },
  {
   "cell_type": "code",
   "execution_count": 40,
   "id": "2cbd7ecd",
   "metadata": {},
   "outputs": [
    {
     "name": "stdout",
     "output_type": "stream",
     "text": [
      "   COMPOSITING\\n생산  양품  불량품  불출  이월재고  재고  LAMI\\n생산  양품  불량품  불출  ...  불량품  \\\n",
      "1                0   0    0   0     0   0         0   0    0   0  ...    0   \n",
      "2                0   0    0   0     0   0         0   0    0   0  ...    0   \n",
      "3                0   0    0   0     0   0         0   0    0   0  ...    0   \n",
      "4                0   0    0   0     0   0         0   0    0   0  ...    0   \n",
      "5                0   0    0   0     0   0         0   0    0   0  ...    0   \n",
      "\n",
      "   불출  이월재고  재고  TRANSCRIPTION\\n생산  양품  불량품  불출  이월재고  재고  \n",
      "1   0     0   0                  0   0    0   0     0   0  \n",
      "2   0     0   0                  0   0    0   0     0   0  \n",
      "3   0     0   0                  0   0    0   0     0   0  \n",
      "4   0     0   0                  0   0    0   0     0   0  \n",
      "5   0     0   0                  0   0    0   0     0   0  \n",
      "\n",
      "[5 rows x 36 columns]\n"
     ]
    },
    {
     "name": "stderr",
     "output_type": "stream",
     "text": [
      "C:\\Users\\gram\\AppData\\Local\\Temp\\ipykernel_44868\\2744508121.py:26: FutureWarning: Downcasting object dtype arrays on .fillna, .ffill, .bfill is deprecated and will change in a future version. Call result.infer_objects(copy=False) instead. To opt-in to the future behavior, set `pd.set_option('future.no_silent_downcasting', True)`\n",
      "  df = df.fillna(0)\n"
     ]
    }
   ],
   "source": [
    "\n",
    "# 사용할 공정 리스트\n",
    "processes = {\n",
    "    'COMPOSITING': config.COMPOSITING,\n",
    "    'LAMI': config.LAMI,\n",
    "    'LQ_INSPECTION': config.LQ_INSPECTION,\n",
    "    'ETCHING': config.ETCHING,\n",
    "    'EQ_INSPECTION': config.EQ_INSPECTION,\n",
    "    'TRANSCRIPTION': config.TRANSCRIPTION\n",
    "}\n",
    "\n",
    "columns_per_stage = ['생산', '양품', '불량품', '불출', '이월재고', '재고']\n",
    "\n",
    "columns = []\n",
    "# 3. 전체 열 리스트 만들기 (36개 열)\n",
    "for stage in processes:\n",
    "    for col in columns_per_stage:\n",
    "        if col == '생산':\n",
    "            columns.append(f\"{stage}\\n{col}\")\n",
    "        else:\n",
    "            columns.append(col)\n",
    "\n",
    "# 4. 빈 DataFrame 생성 (예: 30일간의 데이터 시뮬레이션)\n",
    "df = pd.DataFrame(columns=columns, index=range(1, 31))  # 인덱스 1~30일\n",
    "\n",
    "# 5. 0으로 초기화\n",
    "df = df.fillna(0)\n",
    "\n",
    "# 6. CSV로 저장\n",
    "df.to_csv(\"공정시뮬레이션_기록.csv\", index_label='일자', encoding='utf-8-sig')\n",
    "\n",
    "# 7. 확인용 출력\n",
    "print(df.head())"
   ]
  },
  {
   "cell_type": "code",
   "execution_count": 41,
   "id": "a9c7c99e",
   "metadata": {},
   "outputs": [
    {
     "ename": "KeyError",
     "evalue": "'reject'",
     "output_type": "error",
     "traceback": [
      "\u001b[1;31m---------------------------------------------------------------------------\u001b[0m",
      "\u001b[1;31mKeyError\u001b[0m                                  Traceback (most recent call last)",
      "Cell \u001b[1;32mIn[41], line 1\u001b[0m\n\u001b[1;32m----> 1\u001b[0m LQ_product \u001b[38;5;241m=\u001b[39m product_count\u001b[38;5;241m/\u001b[39m(\u001b[38;5;241m1\u001b[39m\u001b[38;5;241m-\u001b[39m\u001b[43mconfig\u001b[49m\u001b[38;5;241;43m.\u001b[39;49m\u001b[43mLQ_INSPECTION\u001b[49m\u001b[43m[\u001b[49m\u001b[38;5;124;43m'\u001b[39;49m\u001b[38;5;124;43mreject\u001b[39;49m\u001b[38;5;124;43m'\u001b[39;49m\u001b[43m]\u001b[49m)\n\u001b[0;32m      2\u001b[0m EQ_product \u001b[38;5;241m=\u001b[39m LQ_product\u001b[38;5;241m/\u001b[39m(\u001b[38;5;241m1\u001b[39m\u001b[38;5;241m-\u001b[39mconfig\u001b[38;5;241m.\u001b[39mEQ_INSPECTION[\u001b[38;5;124m'\u001b[39m\u001b[38;5;124mreject\u001b[39m\u001b[38;5;124m'\u001b[39m])\n\u001b[0;32m      3\u001b[0m \u001b[38;5;28mprint\u001b[39m(LQ_product, EQ_product)\n",
      "\u001b[1;31mKeyError\u001b[0m: 'reject'"
     ]
    }
   ],
   "source": [
    "LQ_product = product_count/(1-config.LQ_INSPECTION['reject'])\n",
    "EQ_product = LQ_product/(1-config.EQ_INSPECTION['reject'])\n",
    "print(LQ_product, EQ_product)"
   ]
  }
 ],
 "metadata": {
  "kernelspec": {
   "display_name": "onyu",
   "language": "python",
   "name": "python3"
  },
  "language_info": {
   "codemirror_mode": {
    "name": "ipython",
    "version": 3
   },
   "file_extension": ".py",
   "mimetype": "text/x-python",
   "name": "python",
   "nbconvert_exporter": "python",
   "pygments_lexer": "ipython3",
   "version": "3.9.19"
  }
 },
 "nbformat": 4,
 "nbformat_minor": 5
}
